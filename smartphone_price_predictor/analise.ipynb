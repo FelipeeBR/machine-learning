{
  "cells": [
    {
      "cell_type": "code",
      "execution_count": 78,
      "metadata": {
        "id": "GTUHRzVlswzc"
      },
      "outputs": [],
      "source": [
        "import pandas as pd\n",
        "import numpy as np\n",
        "import os\n",
        "import matplotlib.pyplot as plt\n",
        "import seaborn as sns\n",
        "import warnings\n",
        "from sklearn.linear_model import LinearRegression\n",
        "from sklearn.model_selection import train_test_split\n",
        "from sklearn.model_selection import cross_val_predict\n",
        "warnings.filterwarnings('ignore')"
      ]
    },
    {
      "cell_type": "code",
      "execution_count": 79,
      "metadata": {
        "id": "FR_biA-atb-h"
      },
      "outputs": [],
      "source": [
        "dados = pd.read_csv('Flipkart_Mobiles.csv')"
      ]
    },
    {
      "cell_type": "code",
      "execution_count": 80,
      "metadata": {
        "colab": {
          "base_uri": "https://localhost:8080/",
          "height": 424
        },
        "id": "hhucZYyKtjb6",
        "outputId": "39ff9bbc-306e-4bc4-e4d6-19b532083e58"
      },
      "outputs": [
        {
          "data": {
            "text/html": [
              "<div>\n",
              "<style scoped>\n",
              "    .dataframe tbody tr th:only-of-type {\n",
              "        vertical-align: middle;\n",
              "    }\n",
              "\n",
              "    .dataframe tbody tr th {\n",
              "        vertical-align: top;\n",
              "    }\n",
              "\n",
              "    .dataframe thead th {\n",
              "        text-align: right;\n",
              "    }\n",
              "</style>\n",
              "<table border=\"1\" class=\"dataframe\">\n",
              "  <thead>\n",
              "    <tr style=\"text-align: right;\">\n",
              "      <th></th>\n",
              "      <th>Brand</th>\n",
              "      <th>Model</th>\n",
              "      <th>Color</th>\n",
              "      <th>Memory</th>\n",
              "      <th>Storage</th>\n",
              "      <th>Rating</th>\n",
              "      <th>Selling Price</th>\n",
              "      <th>Original Price</th>\n",
              "    </tr>\n",
              "  </thead>\n",
              "  <tbody>\n",
              "    <tr>\n",
              "      <th>0</th>\n",
              "      <td>OPPO</td>\n",
              "      <td>A53</td>\n",
              "      <td>Moonlight Black</td>\n",
              "      <td>4 GB</td>\n",
              "      <td>64 GB</td>\n",
              "      <td>4.5</td>\n",
              "      <td>11990</td>\n",
              "      <td>15990</td>\n",
              "    </tr>\n",
              "    <tr>\n",
              "      <th>1</th>\n",
              "      <td>OPPO</td>\n",
              "      <td>A53</td>\n",
              "      <td>Mint Cream</td>\n",
              "      <td>4 GB</td>\n",
              "      <td>64 GB</td>\n",
              "      <td>4.5</td>\n",
              "      <td>11990</td>\n",
              "      <td>15990</td>\n",
              "    </tr>\n",
              "    <tr>\n",
              "      <th>2</th>\n",
              "      <td>OPPO</td>\n",
              "      <td>A53</td>\n",
              "      <td>Moonlight Black</td>\n",
              "      <td>6 GB</td>\n",
              "      <td>128 GB</td>\n",
              "      <td>4.3</td>\n",
              "      <td>13990</td>\n",
              "      <td>17990</td>\n",
              "    </tr>\n",
              "    <tr>\n",
              "      <th>3</th>\n",
              "      <td>OPPO</td>\n",
              "      <td>A53</td>\n",
              "      <td>Mint Cream</td>\n",
              "      <td>6 GB</td>\n",
              "      <td>128 GB</td>\n",
              "      <td>4.3</td>\n",
              "      <td>13990</td>\n",
              "      <td>17990</td>\n",
              "    </tr>\n",
              "    <tr>\n",
              "      <th>4</th>\n",
              "      <td>OPPO</td>\n",
              "      <td>A53</td>\n",
              "      <td>Electric Black</td>\n",
              "      <td>4 GB</td>\n",
              "      <td>64 GB</td>\n",
              "      <td>4.5</td>\n",
              "      <td>11990</td>\n",
              "      <td>15990</td>\n",
              "    </tr>\n",
              "    <tr>\n",
              "      <th>...</th>\n",
              "      <td>...</td>\n",
              "      <td>...</td>\n",
              "      <td>...</td>\n",
              "      <td>...</td>\n",
              "      <td>...</td>\n",
              "      <td>...</td>\n",
              "      <td>...</td>\n",
              "      <td>...</td>\n",
              "    </tr>\n",
              "    <tr>\n",
              "      <th>3109</th>\n",
              "      <td>SAMSUNG</td>\n",
              "      <td>M52 5G</td>\n",
              "      <td>Blazing Black</td>\n",
              "      <td>6 GB</td>\n",
              "      <td>128 GB</td>\n",
              "      <td>4.3</td>\n",
              "      <td>25990</td>\n",
              "      <td>25990</td>\n",
              "    </tr>\n",
              "    <tr>\n",
              "      <th>3110</th>\n",
              "      <td>SAMSUNG</td>\n",
              "      <td>M52 5G</td>\n",
              "      <td>Icy Blue</td>\n",
              "      <td>6 GB</td>\n",
              "      <td>128 GB</td>\n",
              "      <td>4.3</td>\n",
              "      <td>25489</td>\n",
              "      <td>28449</td>\n",
              "    </tr>\n",
              "    <tr>\n",
              "      <th>3111</th>\n",
              "      <td>SAMSUNG</td>\n",
              "      <td>M52 5G</td>\n",
              "      <td>Icy Blue</td>\n",
              "      <td>8 GB</td>\n",
              "      <td>128 GB</td>\n",
              "      <td>4.3</td>\n",
              "      <td>27239</td>\n",
              "      <td>31489</td>\n",
              "    </tr>\n",
              "    <tr>\n",
              "      <th>3112</th>\n",
              "      <td>SAMSUNG</td>\n",
              "      <td>M52 5G</td>\n",
              "      <td>Slate Black</td>\n",
              "      <td>8 GB</td>\n",
              "      <td>128 GB</td>\n",
              "      <td>4.2</td>\n",
              "      <td>22989</td>\n",
              "      <td>22989</td>\n",
              "    </tr>\n",
              "    <tr>\n",
              "      <th>3113</th>\n",
              "      <td>SAMSUNG</td>\n",
              "      <td>M52 5G</td>\n",
              "      <td>Sky Blue</td>\n",
              "      <td>8 GB</td>\n",
              "      <td>128 GB</td>\n",
              "      <td>4.2</td>\n",
              "      <td>20350</td>\n",
              "      <td>22595</td>\n",
              "    </tr>\n",
              "  </tbody>\n",
              "</table>\n",
              "<p>3114 rows × 8 columns</p>\n",
              "</div>"
            ],
            "text/plain": [
              "        Brand   Model            Color Memory Storage  Rating  Selling Price  \\\n",
              "0        OPPO     A53  Moonlight Black   4 GB   64 GB     4.5          11990   \n",
              "1        OPPO     A53       Mint Cream   4 GB   64 GB     4.5          11990   \n",
              "2        OPPO     A53  Moonlight Black   6 GB  128 GB     4.3          13990   \n",
              "3        OPPO     A53       Mint Cream   6 GB  128 GB     4.3          13990   \n",
              "4        OPPO     A53   Electric Black   4 GB   64 GB     4.5          11990   \n",
              "...       ...     ...              ...    ...     ...     ...            ...   \n",
              "3109  SAMSUNG  M52 5G    Blazing Black   6 GB  128 GB     4.3          25990   \n",
              "3110  SAMSUNG  M52 5G         Icy Blue   6 GB  128 GB     4.3          25489   \n",
              "3111  SAMSUNG  M52 5G         Icy Blue   8 GB  128 GB     4.3          27239   \n",
              "3112  SAMSUNG  M52 5G      Slate Black   8 GB  128 GB     4.2          22989   \n",
              "3113  SAMSUNG  M52 5G         Sky Blue   8 GB  128 GB     4.2          20350   \n",
              "\n",
              "      Original Price  \n",
              "0              15990  \n",
              "1              15990  \n",
              "2              17990  \n",
              "3              17990  \n",
              "4              15990  \n",
              "...              ...  \n",
              "3109           25990  \n",
              "3110           28449  \n",
              "3111           31489  \n",
              "3112           22989  \n",
              "3113           22595  \n",
              "\n",
              "[3114 rows x 8 columns]"
            ]
          },
          "execution_count": 80,
          "metadata": {},
          "output_type": "execute_result"
        }
      ],
      "source": [
        "dados"
      ]
    },
    {
      "cell_type": "code",
      "execution_count": 81,
      "metadata": {},
      "outputs": [
        {
          "data": {
            "text/plain": [
              "Brand             False\n",
              "Model             False\n",
              "Color             False\n",
              "Memory             True\n",
              "Storage            True\n",
              "Rating            False\n",
              "Selling Price     False\n",
              "Original Price    False\n",
              "dtype: bool"
            ]
          },
          "execution_count": 81,
          "metadata": {},
          "output_type": "execute_result"
        }
      ],
      "source": [
        "dados.isnull().any()"
      ]
    },
    {
      "cell_type": "code",
      "execution_count": 82,
      "metadata": {},
      "outputs": [],
      "source": [
        "dados = dados.fillna(lambda x: x.median())"
      ]
    },
    {
      "cell_type": "code",
      "execution_count": 83,
      "metadata": {
        "colab": {
          "base_uri": "https://localhost:8080/"
        },
        "id": "PfjDzsIty_aO",
        "outputId": "098eab13-6dc2-4135-cdc4-ff3872346b5c"
      },
      "outputs": [
        {
          "name": "stdout",
          "output_type": "stream",
          "text": [
            "<class 'pandas.core.frame.DataFrame'>\n",
            "RangeIndex: 3114 entries, 0 to 3113\n",
            "Data columns (total 8 columns):\n",
            " #   Column          Non-Null Count  Dtype  \n",
            "---  ------          --------------  -----  \n",
            " 0   Brand           3114 non-null   object \n",
            " 1   Model           3114 non-null   object \n",
            " 2   Color           3114 non-null   object \n",
            " 3   Memory          3114 non-null   object \n",
            " 4   Storage         3114 non-null   object \n",
            " 5   Rating          3114 non-null   float64\n",
            " 6   Selling Price   3114 non-null   int64  \n",
            " 7   Original Price  3114 non-null   int64  \n",
            "dtypes: float64(1), int64(2), object(5)\n",
            "memory usage: 194.8+ KB\n"
          ]
        }
      ],
      "source": [
        "dados.info()"
      ]
    },
    {
      "cell_type": "markdown",
      "metadata": {},
      "source": [
        "### Preprocessamento"
      ]
    },
    {
      "cell_type": "code",
      "execution_count": 84,
      "metadata": {},
      "outputs": [],
      "source": [
        "#Por enquanto será removido a coluna Color e Original Price\n",
        "dados = dados.drop(['Color', 'Original Price'], axis=1)"
      ]
    },
    {
      "cell_type": "code",
      "execution_count": 85,
      "metadata": {},
      "outputs": [
        {
          "data": {
            "text/plain": [
              "count      3114.000000\n",
              "mean      26436.625562\n",
              "std       30066.892622\n",
              "min        1000.000000\n",
              "25%        9990.000000\n",
              "50%       15000.000000\n",
              "75%       28999.000000\n",
              "max      179900.000000\n",
              "Name: Selling Price, dtype: float64"
            ]
          },
          "execution_count": 85,
          "metadata": {},
          "output_type": "execute_result"
        }
      ],
      "source": [
        "#Informações de conjunto de preços dos Smartphones\n",
        "dados['Selling Price'].describe()"
      ]
    },
    {
      "cell_type": "code",
      "execution_count": 86,
      "metadata": {
        "colab": {
          "base_uri": "https://localhost:8080/"
        },
        "id": "iHR2x0CJ0W0Y",
        "outputId": "7d56e34e-c147-45e2-a906-b20e4d5f946e"
      },
      "outputs": [
        {
          "data": {
            "text/plain": [
              "Brand            0\n",
              "Model            0\n",
              "Memory           0\n",
              "Storage          0\n",
              "Rating           0\n",
              "Selling Price    0\n",
              "dtype: int64"
            ]
          },
          "execution_count": 86,
          "metadata": {},
          "output_type": "execute_result"
        }
      ],
      "source": [
        "dados.isnull().sum()"
      ]
    },
    {
      "cell_type": "code",
      "execution_count": 87,
      "metadata": {},
      "outputs": [],
      "source": [
        "#Removendo valores nulos\n",
        "dados = dados[~dados.isnull()]"
      ]
    },
    {
      "cell_type": "markdown",
      "metadata": {},
      "source": [
        "# Transformando a coluna Memory e Storage em valores float."
      ]
    },
    {
      "cell_type": "code",
      "execution_count": 88,
      "metadata": {},
      "outputs": [],
      "source": [
        "dados['Memory']=dados['Memory'].str.replace(\" GB\",\"\")\n",
        "dados['Memory']=dados['Memory'].str.replace(\" MB\",\"\")\n",
        "dados['Memory']=dados['Memory'].str.replace(\"GB\",\"\")\n",
        "dados['Memory']=dados['Memory'].astype(float)"
      ]
    },
    {
      "cell_type": "code",
      "execution_count": 89,
      "metadata": {},
      "outputs": [],
      "source": [
        "dados = dados.dropna()"
      ]
    },
    {
      "cell_type": "code",
      "execution_count": 90,
      "metadata": {},
      "outputs": [],
      "source": [
        "dados = dados.dropna(subset=['Memory'])"
      ]
    },
    {
      "cell_type": "code",
      "execution_count": 91,
      "metadata": {},
      "outputs": [
        {
          "name": "stdout",
          "output_type": "stream",
          "text": [
            "Empty DataFrame\n",
            "Columns: [Brand, Model, Memory, Storage, Rating, Selling Price]\n",
            "Index: []\n"
          ]
        }
      ],
      "source": [
        "print(dados[dados['Storage'].isnull()])"
      ]
    },
    {
      "cell_type": "code",
      "execution_count": 92,
      "metadata": {},
      "outputs": [],
      "source": [
        "dados = dados.dropna(subset=['Storage'])"
      ]
    },
    {
      "cell_type": "code",
      "execution_count": 93,
      "metadata": {},
      "outputs": [],
      "source": [
        "dados['Storage']=dados['Storage'].str.replace(\" GB\",\"\")\n",
        "dados['Storage']=dados['Storage'].str.replace(\" MB\",\"\")\n",
        "dados['Storage']=dados['Storage'].str.replace(\"GB\",\"\")\n",
        "dados['Storage']=dados['Storage'].str.replace(\" TB\",\"\")\n",
        "#dados[\"Storage\"]= dados[\"Storage\"].fillna(0).astype(int)\n",
        "dados['Storage']=dados['Storage'].astype(float)"
      ]
    },
    {
      "cell_type": "code",
      "execution_count": 94,
      "metadata": {},
      "outputs": [],
      "source": [
        "dados = dados.dropna(subset=['Rating'])"
      ]
    },
    {
      "cell_type": "code",
      "execution_count": 95,
      "metadata": {},
      "outputs": [],
      "source": [
        "dados[\"Rating\"]= dados[\"Rating\"].fillna(0).astype(float)"
      ]
    },
    {
      "cell_type": "code",
      "execution_count": 96,
      "metadata": {},
      "outputs": [],
      "source": [
        "dados['Rating']=dados['Rating'].astype(str).astype(float)"
      ]
    },
    {
      "cell_type": "code",
      "execution_count": 97,
      "metadata": {},
      "outputs": [],
      "source": [
        "dados= dados.dropna(axis= 0, how='any')"
      ]
    },
    {
      "cell_type": "markdown",
      "metadata": {},
      "source": [
        "concatenando coluna Brand + coluna Model para que a seleção para facilitar na predição."
      ]
    },
    {
      "cell_type": "code",
      "execution_count": 98,
      "metadata": {},
      "outputs": [],
      "source": [
        "dados['modelBrand'] = dados['Brand']+\" \"+dados['Model']\n",
        "dados.drop(['Model'], axis=1)\n",
        "dados['Model'] = dados['modelBrand']"
      ]
    },
    {
      "cell_type": "code",
      "execution_count": 99,
      "metadata": {},
      "outputs": [],
      "source": [
        "dados = dados.drop(columns=['modelBrand'], axis=1)"
      ]
    },
    {
      "cell_type": "code",
      "execution_count": 100,
      "metadata": {},
      "outputs": [
        {
          "data": {
            "text/html": [
              "<div>\n",
              "<style scoped>\n",
              "    .dataframe tbody tr th:only-of-type {\n",
              "        vertical-align: middle;\n",
              "    }\n",
              "\n",
              "    .dataframe tbody tr th {\n",
              "        vertical-align: top;\n",
              "    }\n",
              "\n",
              "    .dataframe thead th {\n",
              "        text-align: right;\n",
              "    }\n",
              "</style>\n",
              "<table border=\"1\" class=\"dataframe\">\n",
              "  <thead>\n",
              "    <tr style=\"text-align: right;\">\n",
              "      <th></th>\n",
              "      <th>Brand</th>\n",
              "      <th>Model</th>\n",
              "      <th>Memory</th>\n",
              "      <th>Storage</th>\n",
              "      <th>Rating</th>\n",
              "      <th>Selling Price</th>\n",
              "    </tr>\n",
              "  </thead>\n",
              "  <tbody>\n",
              "    <tr>\n",
              "      <th>0</th>\n",
              "      <td>OPPO</td>\n",
              "      <td>OPPO A53</td>\n",
              "      <td>4.0</td>\n",
              "      <td>64.0</td>\n",
              "      <td>4.5</td>\n",
              "      <td>11990</td>\n",
              "    </tr>\n",
              "    <tr>\n",
              "      <th>1</th>\n",
              "      <td>OPPO</td>\n",
              "      <td>OPPO A53</td>\n",
              "      <td>4.0</td>\n",
              "      <td>64.0</td>\n",
              "      <td>4.5</td>\n",
              "      <td>11990</td>\n",
              "    </tr>\n",
              "    <tr>\n",
              "      <th>2</th>\n",
              "      <td>OPPO</td>\n",
              "      <td>OPPO A53</td>\n",
              "      <td>6.0</td>\n",
              "      <td>128.0</td>\n",
              "      <td>4.3</td>\n",
              "      <td>13990</td>\n",
              "    </tr>\n",
              "    <tr>\n",
              "      <th>3</th>\n",
              "      <td>OPPO</td>\n",
              "      <td>OPPO A53</td>\n",
              "      <td>6.0</td>\n",
              "      <td>128.0</td>\n",
              "      <td>4.3</td>\n",
              "      <td>13990</td>\n",
              "    </tr>\n",
              "    <tr>\n",
              "      <th>4</th>\n",
              "      <td>OPPO</td>\n",
              "      <td>OPPO A53</td>\n",
              "      <td>4.0</td>\n",
              "      <td>64.0</td>\n",
              "      <td>4.5</td>\n",
              "      <td>11990</td>\n",
              "    </tr>\n",
              "    <tr>\n",
              "      <th>...</th>\n",
              "      <td>...</td>\n",
              "      <td>...</td>\n",
              "      <td>...</td>\n",
              "      <td>...</td>\n",
              "      <td>...</td>\n",
              "      <td>...</td>\n",
              "    </tr>\n",
              "    <tr>\n",
              "      <th>3109</th>\n",
              "      <td>SAMSUNG</td>\n",
              "      <td>SAMSUNG M52 5G</td>\n",
              "      <td>6.0</td>\n",
              "      <td>128.0</td>\n",
              "      <td>4.3</td>\n",
              "      <td>25990</td>\n",
              "    </tr>\n",
              "    <tr>\n",
              "      <th>3110</th>\n",
              "      <td>SAMSUNG</td>\n",
              "      <td>SAMSUNG M52 5G</td>\n",
              "      <td>6.0</td>\n",
              "      <td>128.0</td>\n",
              "      <td>4.3</td>\n",
              "      <td>25489</td>\n",
              "    </tr>\n",
              "    <tr>\n",
              "      <th>3111</th>\n",
              "      <td>SAMSUNG</td>\n",
              "      <td>SAMSUNG M52 5G</td>\n",
              "      <td>8.0</td>\n",
              "      <td>128.0</td>\n",
              "      <td>4.3</td>\n",
              "      <td>27239</td>\n",
              "    </tr>\n",
              "    <tr>\n",
              "      <th>3112</th>\n",
              "      <td>SAMSUNG</td>\n",
              "      <td>SAMSUNG M52 5G</td>\n",
              "      <td>8.0</td>\n",
              "      <td>128.0</td>\n",
              "      <td>4.2</td>\n",
              "      <td>22989</td>\n",
              "    </tr>\n",
              "    <tr>\n",
              "      <th>3113</th>\n",
              "      <td>SAMSUNG</td>\n",
              "      <td>SAMSUNG M52 5G</td>\n",
              "      <td>8.0</td>\n",
              "      <td>128.0</td>\n",
              "      <td>4.2</td>\n",
              "      <td>20350</td>\n",
              "    </tr>\n",
              "  </tbody>\n",
              "</table>\n",
              "<p>3084 rows × 6 columns</p>\n",
              "</div>"
            ],
            "text/plain": [
              "        Brand           Model  Memory  Storage  Rating  Selling Price\n",
              "0        OPPO        OPPO A53     4.0     64.0     4.5          11990\n",
              "1        OPPO        OPPO A53     4.0     64.0     4.5          11990\n",
              "2        OPPO        OPPO A53     6.0    128.0     4.3          13990\n",
              "3        OPPO        OPPO A53     6.0    128.0     4.3          13990\n",
              "4        OPPO        OPPO A53     4.0     64.0     4.5          11990\n",
              "...       ...             ...     ...      ...     ...            ...\n",
              "3109  SAMSUNG  SAMSUNG M52 5G     6.0    128.0     4.3          25990\n",
              "3110  SAMSUNG  SAMSUNG M52 5G     6.0    128.0     4.3          25489\n",
              "3111  SAMSUNG  SAMSUNG M52 5G     8.0    128.0     4.3          27239\n",
              "3112  SAMSUNG  SAMSUNG M52 5G     8.0    128.0     4.2          22989\n",
              "3113  SAMSUNG  SAMSUNG M52 5G     8.0    128.0     4.2          20350\n",
              "\n",
              "[3084 rows x 6 columns]"
            ]
          },
          "execution_count": 100,
          "metadata": {},
          "output_type": "execute_result"
        }
      ],
      "source": [
        "dados"
      ]
    },
    {
      "cell_type": "markdown",
      "metadata": {},
      "source": [
        "# Alterando o nome dos dados da coluna Model, assim facilitando no processamento dos dados"
      ]
    },
    {
      "cell_type": "code",
      "execution_count": 101,
      "metadata": {},
      "outputs": [],
      "source": [
        "dados['Model']=dados['Model'].str.split().str.slice(start=0,stop=3).str.join(' ')"
      ]
    },
    {
      "cell_type": "markdown",
      "metadata": {},
      "source": [
        "# Resetando os indices com dados limpos"
      ]
    },
    {
      "cell_type": "code",
      "execution_count": 102,
      "metadata": {},
      "outputs": [],
      "source": [
        "dados=dados.reset_index(drop=True)"
      ]
    },
    {
      "cell_type": "markdown",
      "metadata": {},
      "source": [
        "# Salvando dados limpos em novo arquivo .csv"
      ]
    },
    {
      "cell_type": "code",
      "execution_count": 103,
      "metadata": {},
      "outputs": [],
      "source": [
        "dados.to_csv('novo_dados.csv')"
      ]
    },
    {
      "cell_type": "code",
      "execution_count": 104,
      "metadata": {},
      "outputs": [],
      "source": [
        "#Dividindo a base de dados em 2 partes. Dependentes e Independentes para o treinamento\n",
        "\n",
        "X=dados[['Brand', 'Model', 'Memory', 'Storage', 'Rating']]\n",
        "y=dados['Selling Price']"
      ]
    },
    {
      "cell_type": "code",
      "execution_count": 105,
      "metadata": {},
      "outputs": [
        {
          "data": {
            "text/html": [
              "<div>\n",
              "<style scoped>\n",
              "    .dataframe tbody tr th:only-of-type {\n",
              "        vertical-align: middle;\n",
              "    }\n",
              "\n",
              "    .dataframe tbody tr th {\n",
              "        vertical-align: top;\n",
              "    }\n",
              "\n",
              "    .dataframe thead th {\n",
              "        text-align: right;\n",
              "    }\n",
              "</style>\n",
              "<table border=\"1\" class=\"dataframe\">\n",
              "  <thead>\n",
              "    <tr style=\"text-align: right;\">\n",
              "      <th></th>\n",
              "      <th>Brand</th>\n",
              "      <th>Model</th>\n",
              "      <th>Memory</th>\n",
              "      <th>Storage</th>\n",
              "      <th>Rating</th>\n",
              "    </tr>\n",
              "  </thead>\n",
              "  <tbody>\n",
              "    <tr>\n",
              "      <th>0</th>\n",
              "      <td>OPPO</td>\n",
              "      <td>OPPO A53</td>\n",
              "      <td>4.0</td>\n",
              "      <td>64.0</td>\n",
              "      <td>4.5</td>\n",
              "    </tr>\n",
              "    <tr>\n",
              "      <th>1</th>\n",
              "      <td>OPPO</td>\n",
              "      <td>OPPO A53</td>\n",
              "      <td>4.0</td>\n",
              "      <td>64.0</td>\n",
              "      <td>4.5</td>\n",
              "    </tr>\n",
              "    <tr>\n",
              "      <th>2</th>\n",
              "      <td>OPPO</td>\n",
              "      <td>OPPO A53</td>\n",
              "      <td>6.0</td>\n",
              "      <td>128.0</td>\n",
              "      <td>4.3</td>\n",
              "    </tr>\n",
              "    <tr>\n",
              "      <th>3</th>\n",
              "      <td>OPPO</td>\n",
              "      <td>OPPO A53</td>\n",
              "      <td>6.0</td>\n",
              "      <td>128.0</td>\n",
              "      <td>4.3</td>\n",
              "    </tr>\n",
              "    <tr>\n",
              "      <th>4</th>\n",
              "      <td>OPPO</td>\n",
              "      <td>OPPO A53</td>\n",
              "      <td>4.0</td>\n",
              "      <td>64.0</td>\n",
              "      <td>4.5</td>\n",
              "    </tr>\n",
              "    <tr>\n",
              "      <th>...</th>\n",
              "      <td>...</td>\n",
              "      <td>...</td>\n",
              "      <td>...</td>\n",
              "      <td>...</td>\n",
              "      <td>...</td>\n",
              "    </tr>\n",
              "    <tr>\n",
              "      <th>3079</th>\n",
              "      <td>SAMSUNG</td>\n",
              "      <td>SAMSUNG M52 5G</td>\n",
              "      <td>6.0</td>\n",
              "      <td>128.0</td>\n",
              "      <td>4.3</td>\n",
              "    </tr>\n",
              "    <tr>\n",
              "      <th>3080</th>\n",
              "      <td>SAMSUNG</td>\n",
              "      <td>SAMSUNG M52 5G</td>\n",
              "      <td>6.0</td>\n",
              "      <td>128.0</td>\n",
              "      <td>4.3</td>\n",
              "    </tr>\n",
              "    <tr>\n",
              "      <th>3081</th>\n",
              "      <td>SAMSUNG</td>\n",
              "      <td>SAMSUNG M52 5G</td>\n",
              "      <td>8.0</td>\n",
              "      <td>128.0</td>\n",
              "      <td>4.3</td>\n",
              "    </tr>\n",
              "    <tr>\n",
              "      <th>3082</th>\n",
              "      <td>SAMSUNG</td>\n",
              "      <td>SAMSUNG M52 5G</td>\n",
              "      <td>8.0</td>\n",
              "      <td>128.0</td>\n",
              "      <td>4.2</td>\n",
              "    </tr>\n",
              "    <tr>\n",
              "      <th>3083</th>\n",
              "      <td>SAMSUNG</td>\n",
              "      <td>SAMSUNG M52 5G</td>\n",
              "      <td>8.0</td>\n",
              "      <td>128.0</td>\n",
              "      <td>4.2</td>\n",
              "    </tr>\n",
              "  </tbody>\n",
              "</table>\n",
              "<p>3084 rows × 5 columns</p>\n",
              "</div>"
            ],
            "text/plain": [
              "        Brand           Model  Memory  Storage  Rating\n",
              "0        OPPO        OPPO A53     4.0     64.0     4.5\n",
              "1        OPPO        OPPO A53     4.0     64.0     4.5\n",
              "2        OPPO        OPPO A53     6.0    128.0     4.3\n",
              "3        OPPO        OPPO A53     6.0    128.0     4.3\n",
              "4        OPPO        OPPO A53     4.0     64.0     4.5\n",
              "...       ...             ...     ...      ...     ...\n",
              "3079  SAMSUNG  SAMSUNG M52 5G     6.0    128.0     4.3\n",
              "3080  SAMSUNG  SAMSUNG M52 5G     6.0    128.0     4.3\n",
              "3081  SAMSUNG  SAMSUNG M52 5G     8.0    128.0     4.3\n",
              "3082  SAMSUNG  SAMSUNG M52 5G     8.0    128.0     4.2\n",
              "3083  SAMSUNG  SAMSUNG M52 5G     8.0    128.0     4.2\n",
              "\n",
              "[3084 rows x 5 columns]"
            ]
          },
          "execution_count": 105,
          "metadata": {},
          "output_type": "execute_result"
        }
      ],
      "source": [
        "X"
      ]
    },
    {
      "cell_type": "code",
      "execution_count": 106,
      "metadata": {},
      "outputs": [
        {
          "data": {
            "text/plain": [
              "(3084,)"
            ]
          },
          "execution_count": 106,
          "metadata": {},
          "output_type": "execute_result"
        }
      ],
      "source": [
        "y.shape"
      ]
    },
    {
      "cell_type": "code",
      "execution_count": 107,
      "metadata": {},
      "outputs": [
        {
          "data": {
            "text/html": [
              "<div>\n",
              "<style scoped>\n",
              "    .dataframe tbody tr th:only-of-type {\n",
              "        vertical-align: middle;\n",
              "    }\n",
              "\n",
              "    .dataframe tbody tr th {\n",
              "        vertical-align: top;\n",
              "    }\n",
              "\n",
              "    .dataframe thead th {\n",
              "        text-align: right;\n",
              "    }\n",
              "</style>\n",
              "<table border=\"1\" class=\"dataframe\">\n",
              "  <thead>\n",
              "    <tr style=\"text-align: right;\">\n",
              "      <th></th>\n",
              "      <th>Brand</th>\n",
              "      <th>Model</th>\n",
              "      <th>Memory</th>\n",
              "      <th>Storage</th>\n",
              "      <th>Rating</th>\n",
              "      <th>Selling Price</th>\n",
              "    </tr>\n",
              "  </thead>\n",
              "  <tbody>\n",
              "    <tr>\n",
              "      <th>count</th>\n",
              "      <td>3084</td>\n",
              "      <td>3084</td>\n",
              "      <td>3084.000000</td>\n",
              "      <td>3084.000000</td>\n",
              "      <td>3084.000000</td>\n",
              "      <td>3084.000000</td>\n",
              "    </tr>\n",
              "    <tr>\n",
              "      <th>unique</th>\n",
              "      <td>17</td>\n",
              "      <td>773</td>\n",
              "      <td>NaN</td>\n",
              "      <td>NaN</td>\n",
              "      <td>NaN</td>\n",
              "      <td>NaN</td>\n",
              "    </tr>\n",
              "    <tr>\n",
              "      <th>top</th>\n",
              "      <td>SAMSUNG</td>\n",
              "      <td>Apple iPhone 13</td>\n",
              "      <td>NaN</td>\n",
              "      <td>NaN</td>\n",
              "      <td>NaN</td>\n",
              "      <td>NaN</td>\n",
              "    </tr>\n",
              "    <tr>\n",
              "      <th>freq</th>\n",
              "      <td>696</td>\n",
              "      <td>75</td>\n",
              "      <td>NaN</td>\n",
              "      <td>NaN</td>\n",
              "      <td>NaN</td>\n",
              "      <td>NaN</td>\n",
              "    </tr>\n",
              "    <tr>\n",
              "      <th>mean</th>\n",
              "      <td>NaN</td>\n",
              "      <td>NaN</td>\n",
              "      <td>14.211900</td>\n",
              "      <td>89.487776</td>\n",
              "      <td>4.248022</td>\n",
              "      <td>26630.770428</td>\n",
              "    </tr>\n",
              "    <tr>\n",
              "      <th>std</th>\n",
              "      <td>NaN</td>\n",
              "      <td>NaN</td>\n",
              "      <td>70.326288</td>\n",
              "      <td>92.996021</td>\n",
              "      <td>0.271574</td>\n",
              "      <td>30113.952848</td>\n",
              "    </tr>\n",
              "    <tr>\n",
              "      <th>min</th>\n",
              "      <td>NaN</td>\n",
              "      <td>NaN</td>\n",
              "      <td>1.000000</td>\n",
              "      <td>1.000000</td>\n",
              "      <td>2.300000</td>\n",
              "      <td>1000.000000</td>\n",
              "    </tr>\n",
              "    <tr>\n",
              "      <th>25%</th>\n",
              "      <td>NaN</td>\n",
              "      <td>NaN</td>\n",
              "      <td>3.000000</td>\n",
              "      <td>32.000000</td>\n",
              "      <td>4.100000</td>\n",
              "      <td>9999.000000</td>\n",
              "    </tr>\n",
              "    <tr>\n",
              "      <th>50%</th>\n",
              "      <td>NaN</td>\n",
              "      <td>NaN</td>\n",
              "      <td>4.000000</td>\n",
              "      <td>64.000000</td>\n",
              "      <td>4.300000</td>\n",
              "      <td>15405.000000</td>\n",
              "    </tr>\n",
              "    <tr>\n",
              "      <th>75%</th>\n",
              "      <td>NaN</td>\n",
              "      <td>NaN</td>\n",
              "      <td>6.000000</td>\n",
              "      <td>128.000000</td>\n",
              "      <td>4.400000</td>\n",
              "      <td>28999.000000</td>\n",
              "    </tr>\n",
              "    <tr>\n",
              "      <th>max</th>\n",
              "      <td>NaN</td>\n",
              "      <td>NaN</td>\n",
              "      <td>768.000000</td>\n",
              "      <td>512.000000</td>\n",
              "      <td>5.000000</td>\n",
              "      <td>179900.000000</td>\n",
              "    </tr>\n",
              "  </tbody>\n",
              "</table>\n",
              "</div>"
            ],
            "text/plain": [
              "          Brand            Model       Memory      Storage       Rating  \\\n",
              "count      3084             3084  3084.000000  3084.000000  3084.000000   \n",
              "unique       17              773          NaN          NaN          NaN   \n",
              "top     SAMSUNG  Apple iPhone 13          NaN          NaN          NaN   \n",
              "freq        696               75          NaN          NaN          NaN   \n",
              "mean        NaN              NaN    14.211900    89.487776     4.248022   \n",
              "std         NaN              NaN    70.326288    92.996021     0.271574   \n",
              "min         NaN              NaN     1.000000     1.000000     2.300000   \n",
              "25%         NaN              NaN     3.000000    32.000000     4.100000   \n",
              "50%         NaN              NaN     4.000000    64.000000     4.300000   \n",
              "75%         NaN              NaN     6.000000   128.000000     4.400000   \n",
              "max         NaN              NaN   768.000000   512.000000     5.000000   \n",
              "\n",
              "        Selling Price  \n",
              "count     3084.000000  \n",
              "unique            NaN  \n",
              "top               NaN  \n",
              "freq              NaN  \n",
              "mean     26630.770428  \n",
              "std      30113.952848  \n",
              "min       1000.000000  \n",
              "25%       9999.000000  \n",
              "50%      15405.000000  \n",
              "75%      28999.000000  \n",
              "max     179900.000000  "
            ]
          },
          "execution_count": 107,
          "metadata": {},
          "output_type": "execute_result"
        }
      ],
      "source": [
        "dados.describe(include='all')"
      ]
    },
    {
      "cell_type": "code",
      "execution_count": 108,
      "metadata": {},
      "outputs": [
        {
          "data": {
            "text/plain": [
              "array(['OPPO', 'HTC', 'IQOO', 'Google Pixel', 'LG', 'ASUS', 'realme',\n",
              "       'GIONEE', 'Nokia', 'Apple', 'SAMSUNG', 'Lenovo', 'Motorola',\n",
              "       'POCO', 'vivo', 'Xiaomi', 'Infinix'], dtype=object)"
            ]
          },
          "execution_count": 108,
          "metadata": {},
          "output_type": "execute_result"
        }
      ],
      "source": [
        "dados['Brand'].unique()"
      ]
    },
    {
      "cell_type": "markdown",
      "metadata": {},
      "source": [
        "# Relação de Preço de venda com a marca"
      ]
    },
    {
      "cell_type": "code",
      "execution_count": 109,
      "metadata": {},
      "outputs": [
        {
          "data": {
            "text/plain": [
              "<AxesSubplot: xlabel='Selling Price', ylabel='Brand'>"
            ]
          },
          "execution_count": 109,
          "metadata": {},
          "output_type": "execute_result"
        },
        {
          "data": {
            "image/png": "[encoded data removed]",
            "text/plain": [
              "<Figure size 1400x700 with 1 Axes>"
            ]
          },
          "metadata": {},
          "output_type": "display_data"
        }
      ],
      "source": [
        "plt.subplots(figsize=(14,7))\n",
        "sns.boxplot(x='Selling Price',y='Brand',data=dados)"
      ]
    },
    {
      "cell_type": "markdown",
      "metadata": {},
      "source": [
        "# Aplicando train, test"
      ]
    },
    {
      "cell_type": "code",
      "execution_count": 110,
      "metadata": {},
      "outputs": [],
      "source": [
        "X_train,X_test,y_train,y_test=train_test_split(X,y,test_size=0.2)\n"
      ]
    },
    {
      "cell_type": "code",
      "execution_count": 111,
      "metadata": {},
      "outputs": [],
      "source": [
        "from sklearn.preprocessing import OneHotEncoder\n",
        "from sklearn.compose import make_column_transformer\n",
        "from sklearn.pipeline import make_pipeline\n",
        "from sklearn.metrics import r2_score"
      ]
    },
    {
      "cell_type": "markdown",
      "metadata": {},
      "source": [
        "# Categorizando coluna Brand e Model"
      ]
    },
    {
      "cell_type": "code",
      "execution_count": 112,
      "metadata": {},
      "outputs": [
        {
          "data": {
            "text/html": [
              "<style>#sk-container-id-3 {color: black;background-color: white;}#sk-container-id-3 pre{padding: 0;}#sk-container-id-3 div.sk-toggleable {background-color: white;}#sk-container-id-3 label.sk-toggleable__label {cursor: pointer;display: block;width: 100%;margin-bottom: 0;padding: 0.3em;box-sizing: border-box;text-align: center;}#sk-container-id-3 label.sk-toggleable__label-arrow:before {content: \"▸\";float: left;margin-right: 0.25em;color: #696969;}#sk-container-id-3 label.sk-toggleable__label-arrow:hover:before {color: black;}#sk-container-id-3 div.sk-estimator:hover label.sk-toggleable__label-arrow:before {color: black;}#sk-container-id-3 div.sk-toggleable__content {max-height: 0;max-width: 0;overflow: hidden;text-align: left;background-color: #f0f8ff;}#sk-container-id-3 div.sk-toggleable__content pre {margin: 0.2em;color: black;border-radius: 0.25em;background-color: #f0f8ff;}#sk-container-id-3 input.sk-toggleable__control:checked~div.sk-toggleable__content {max-height: 200px;max-width: 100%;overflow: auto;}#sk-container-id-3 input.sk-toggleable__control:checked~label.sk-toggleable__label-arrow:before {content: \"▾\";}#sk-container-id-3 div.sk-estimator input.sk-toggleable__control:checked~label.sk-toggleable__label {background-color: #d4ebff;}#sk-container-id-3 div.sk-label input.sk-toggleable__control:checked~label.sk-toggleable__label {background-color: #d4ebff;}#sk-container-id-3 input.sk-hidden--visually {border: 0;clip: rect(1px 1px 1px 1px);clip: rect(1px, 1px, 1px, 1px);height: 1px;margin: -1px;overflow: hidden;padding: 0;position: absolute;width: 1px;}#sk-container-id-3 div.sk-estimator {font-family: monospace;background-color: #f0f8ff;border: 1px dotted black;border-radius: 0.25em;box-sizing: border-box;margin-bottom: 0.5em;}#sk-container-id-3 div.sk-estimator:hover {background-color: #d4ebff;}#sk-container-id-3 div.sk-parallel-item::after {content: \"\";width: 100%;border-bottom: 1px solid gray;flex-grow: 1;}#sk-container-id-3 div.sk-label:hover label.sk-toggleable__label {background-color: #d4ebff;}#sk-container-id-3 div.sk-serial::before {content: \"\";position: absolute;border-left: 1px solid gray;box-sizing: border-box;top: 0;bottom: 0;left: 50%;z-index: 0;}#sk-container-id-3 div.sk-serial {display: flex;flex-direction: column;align-items: center;background-color: white;padding-right: 0.2em;padding-left: 0.2em;position: relative;}#sk-container-id-3 div.sk-item {position: relative;z-index: 1;}#sk-container-id-3 div.sk-parallel {display: flex;align-items: stretch;justify-content: center;background-color: white;position: relative;}#sk-container-id-3 div.sk-item::before, #sk-container-id-3 div.sk-parallel-item::before {content: \"\";position: absolute;border-left: 1px solid gray;box-sizing: border-box;top: 0;bottom: 0;left: 50%;z-index: -1;}#sk-container-id-3 div.sk-parallel-item {display: flex;flex-direction: column;z-index: 1;position: relative;background-color: white;}#sk-container-id-3 div.sk-parallel-item:first-child::after {align-self: flex-end;width: 50%;}#sk-container-id-3 div.sk-parallel-item:last-child::after {align-self: flex-start;width: 50%;}#sk-container-id-3 div.sk-parallel-item:only-child::after {width: 0;}#sk-container-id-3 div.sk-dashed-wrapped {border: 1px dashed gray;margin: 0 0.4em 0.5em 0.4em;box-sizing: border-box;padding-bottom: 0.4em;background-color: white;}#sk-container-id-3 div.sk-label label {font-family: monospace;font-weight: bold;display: inline-block;line-height: 1.2em;}#sk-container-id-3 div.sk-label-container {text-align: center;}#sk-container-id-3 div.sk-container {/* jupyter's `normalize.less` sets `[hidden] { display: none; }` but bootstrap.min.css set `[hidden] { display: none !important; }` so we also need the `!important` here to be able to override the default hidden behavior on the sphinx rendered scikit-learn.org. See: https://github.com/scikit-learn/scikit-learn/issues/21755 */display: inline-block !important;position: relative;}#sk-container-id-3 div.sk-text-repr-fallback {display: none;}</style><div id=\"sk-container-id-3\" class=\"sk-top-container\"><div class=\"sk-text-repr-fallback\"><pre>OneHotEncoder(handle_unknown=&#x27;ignore&#x27;)</pre><b>In a Jupyter environment, please rerun this cell to show the HTML representation or trust the notebook. <br />On GitHub, the HTML representation is unable to render, please try loading this page with nbviewer.org.</b></div><div class=\"sk-container\" hidden><div class=\"sk-item\"><div class=\"sk-estimator sk-toggleable\"><input class=\"sk-toggleable__control sk-hidden--visually\" id=\"sk-estimator-id-9\" type=\"checkbox\" checked><label for=\"sk-estimator-id-9\" class=\"sk-toggleable__label sk-toggleable__label-arrow\">OneHotEncoder</label><div class=\"sk-toggleable__content\"><pre>OneHotEncoder(handle_unknown=&#x27;ignore&#x27;)</pre></div></div></div></div></div>"
            ],
            "text/plain": [
              "OneHotEncoder(handle_unknown='ignore')"
            ]
          },
          "execution_count": 112,
          "metadata": {},
          "output_type": "execute_result"
        }
      ],
      "source": [
        "ohe=OneHotEncoder(handle_unknown='ignore')\n",
        "ohe.fit(X[['Brand','Model']])"
      ]
    },
    {
      "cell_type": "markdown",
      "metadata": {},
      "source": [
        "# Transformando as colunas em categorias"
      ]
    },
    {
      "cell_type": "code",
      "execution_count": 113,
      "metadata": {},
      "outputs": [],
      "source": [
        "column_trans=make_column_transformer((OneHotEncoder(categories=ohe.categories_),['Brand','Model']),\n",
        "                                    remainder='passthrough')"
      ]
    },
    {
      "cell_type": "markdown",
      "metadata": {},
      "source": [
        "# Modelo de regressao linear"
      ]
    },
    {
      "cell_type": "code",
      "execution_count": 114,
      "metadata": {},
      "outputs": [],
      "source": [
        "lr=LinearRegression()"
      ]
    },
    {
      "cell_type": "markdown",
      "metadata": {},
      "source": [
        "# Fazendo um pipeline"
      ]
    },
    {
      "cell_type": "code",
      "execution_count": 115,
      "metadata": {},
      "outputs": [],
      "source": [
        "pipe=make_pipeline(column_trans,lr)"
      ]
    },
    {
      "cell_type": "code",
      "execution_count": 116,
      "metadata": {},
      "outputs": [
        {
          "data": {
            "text/html": [
              "<style>#sk-container-id-4 {color: black;background-color: white;}#sk-container-id-4 pre{padding: 0;}#sk-container-id-4 div.sk-toggleable {background-color: white;}#sk-container-id-4 label.sk-toggleable__label {cursor: pointer;display: block;width: 100%;margin-bottom: 0;padding: 0.3em;box-sizing: border-box;text-align: center;}#sk-container-id-4 label.sk-toggleable__label-arrow:before {content: \"▸\";float: left;margin-right: 0.25em;color: #696969;}#sk-container-id-4 label.sk-toggleable__label-arrow:hover:before {color: black;}#sk-container-id-4 div.sk-estimator:hover label.sk-toggleable__label-arrow:before {color: black;}#sk-container-id-4 div.sk-toggleable__content {max-height: 0;max-width: 0;overflow: hidden;text-align: left;background-color: #f0f8ff;}#sk-container-id-4 div.sk-toggleable__content pre {margin: 0.2em;color: black;border-radius: 0.25em;background-color: #f0f8ff;}#sk-container-id-4 input.sk-toggleable__control:checked~div.sk-toggleable__content {max-height: 200px;max-width: 100%;overflow: auto;}#sk-container-id-4 input.sk-toggleable__control:checked~label.sk-toggleable__label-arrow:before {content: \"▾\";}#sk-container-id-4 div.sk-estimator input.sk-toggleable__control:checked~label.sk-toggleable__label {background-color: #d4ebff;}#sk-container-id-4 div.sk-label input.sk-toggleable__control:checked~label.sk-toggleable__label {background-color: #d4ebff;}#sk-container-id-4 input.sk-hidden--visually {border: 0;clip: rect(1px 1px 1px 1px);clip: rect(1px, 1px, 1px, 1px);height: 1px;margin: -1px;overflow: hidden;padding: 0;position: absolute;width: 1px;}#sk-container-id-4 div.sk-estimator {font-family: monospace;background-color: #f0f8ff;border: 1px dotted black;border-radius: 0.25em;box-sizing: border-box;margin-bottom: 0.5em;}#sk-container-id-4 div.sk-estimator:hover {background-color: #d4ebff;}#sk-container-id-4 div.sk-parallel-item::after {content: \"\";width: 100%;border-bottom: 1px solid gray;flex-grow: 1;}#sk-container-id-4 div.sk-label:hover label.sk-toggleable__label {background-color: #d4ebff;}#sk-container-id-4 div.sk-serial::before {content: \"\";position: absolute;border-left: 1px solid gray;box-sizing: border-box;top: 0;bottom: 0;left: 50%;z-index: 0;}#sk-container-id-4 div.sk-serial {display: flex;flex-direction: column;align-items: center;background-color: white;padding-right: 0.2em;padding-left: 0.2em;position: relative;}#sk-container-id-4 div.sk-item {position: relative;z-index: 1;}#sk-container-id-4 div.sk-parallel {display: flex;align-items: stretch;justify-content: center;background-color: white;position: relative;}#sk-container-id-4 div.sk-item::before, #sk-container-id-4 div.sk-parallel-item::before {content: \"\";position: absolute;border-left: 1px solid gray;box-sizing: border-box;top: 0;bottom: 0;left: 50%;z-index: -1;}#sk-container-id-4 div.sk-parallel-item {display: flex;flex-direction: column;z-index: 1;position: relative;background-color: white;}#sk-container-id-4 div.sk-parallel-item:first-child::after {align-self: flex-end;width: 50%;}#sk-container-id-4 div.sk-parallel-item:last-child::after {align-self: flex-start;width: 50%;}#sk-container-id-4 div.sk-parallel-item:only-child::after {width: 0;}#sk-container-id-4 div.sk-dashed-wrapped {border: 1px dashed gray;margin: 0 0.4em 0.5em 0.4em;box-sizing: border-box;padding-bottom: 0.4em;background-color: white;}#sk-container-id-4 div.sk-label label {font-family: monospace;font-weight: bold;display: inline-block;line-height: 1.2em;}#sk-container-id-4 div.sk-label-container {text-align: center;}#sk-container-id-4 div.sk-container {/* jupyter's `normalize.less` sets `[hidden] { display: none; }` but bootstrap.min.css set `[hidden] { display: none !important; }` so we also need the `!important` here to be able to override the default hidden behavior on the sphinx rendered scikit-learn.org. See: https://github.com/scikit-learn/scikit-learn/issues/21755 */display: inline-block !important;position: relative;}#sk-container-id-4 div.sk-text-repr-fallback {display: none;}</style><div id=\"sk-container-id-4\" class=\"sk-top-container\"><div class=\"sk-text-repr-fallback\"><pre>Pipeline(steps=[(&#x27;columntransformer&#x27;,\n",
              "                 ColumnTransformer(remainder=&#x27;passthrough&#x27;,\n",
              "                                   transformers=[(&#x27;onehotencoder&#x27;,\n",
              "                                                  OneHotEncoder(categories=[array([&#x27;ASUS&#x27;, &#x27;Apple&#x27;, &#x27;GIONEE&#x27;, &#x27;Google Pixel&#x27;, &#x27;HTC&#x27;, &#x27;IQOO&#x27;,\n",
              "       &#x27;Infinix&#x27;, &#x27;LG&#x27;, &#x27;Lenovo&#x27;, &#x27;Motorola&#x27;, &#x27;Nokia&#x27;, &#x27;OPPO&#x27;, &#x27;POCO&#x27;,\n",
              "       &#x27;SAMSUNG&#x27;, &#x27;Xiaomi&#x27;, &#x27;realme&#x27;, &#x27;vivo&#x27;], dtype=object),\n",
              "                                                                            array([&#x27;ASUS 6Z&#x27;, &#x27;ASUS ROG&#x27;, &#x27;ASUS ROG 5s&#x27;, &#x27;ASUS ROG Pho...\n",
              "       &#x27;vivo Y20G&#x27;, &#x27;vivo Y20G 2021&#x27;, &#x27;vivo Y21&#x27;, &#x27;vivo Y21A&#x27;,\n",
              "       &#x27;vivo Y21T&#x27;, &#x27;vivo Y30&#x27;, &#x27;vivo Y31&#x27;, &#x27;vivo Y33T&#x27;, &#x27;vivo Y33s&#x27;,\n",
              "       &#x27;vivo Y51A&#x27;, &#x27;vivo Y53s&#x27;, &#x27;vivo Y69&#x27;, &#x27;vivo Y71i&#x27;, &#x27;vivo Y72 5G&#x27;,\n",
              "       &#x27;vivo Y73&#x27;, &#x27;vivo Y75 5G&#x27;, &#x27;vivo Y83&#x27;, &#x27;vivo Y83 Pro&#x27;, &#x27;vivo Y90&#x27;,\n",
              "       &#x27;vivo Y91i&#x27;, &#x27;vivo Y93&#x27;, &#x27;vivo Y94&#x27;, &#x27;vivo Y95&#x27;, &#x27;vivo Z1 Pro&#x27;,\n",
              "       &#x27;vivo Z1x&#x27;], dtype=object)]),\n",
              "                                                  [&#x27;Brand&#x27;, &#x27;Model&#x27;])])),\n",
              "                (&#x27;linearregression&#x27;, LinearRegression())])</pre><b>In a Jupyter environment, please rerun this cell to show the HTML representation or trust the notebook. <br />On GitHub, the HTML representation is unable to render, please try loading this page with nbviewer.org.</b></div><div class=\"sk-container\" hidden><div class=\"sk-item sk-dashed-wrapped\"><div class=\"sk-label-container\"><div class=\"sk-label sk-toggleable\"><input class=\"sk-toggleable__control sk-hidden--visually\" id=\"sk-estimator-id-10\" type=\"checkbox\" ><label for=\"sk-estimator-id-10\" class=\"sk-toggleable__label sk-toggleable__label-arrow\">Pipeline</label><div class=\"sk-toggleable__content\"><pre>Pipeline(steps=[(&#x27;columntransformer&#x27;,\n",
              "                 ColumnTransformer(remainder=&#x27;passthrough&#x27;,\n",
              "                                   transformers=[(&#x27;onehotencoder&#x27;,\n",
              "                                                  OneHotEncoder(categories=[array([&#x27;ASUS&#x27;, &#x27;Apple&#x27;, &#x27;GIONEE&#x27;, &#x27;Google Pixel&#x27;, &#x27;HTC&#x27;, &#x27;IQOO&#x27;,\n",
              "       &#x27;Infinix&#x27;, &#x27;LG&#x27;, &#x27;Lenovo&#x27;, &#x27;Motorola&#x27;, &#x27;Nokia&#x27;, &#x27;OPPO&#x27;, &#x27;POCO&#x27;,\n",
              "       &#x27;SAMSUNG&#x27;, &#x27;Xiaomi&#x27;, &#x27;realme&#x27;, &#x27;vivo&#x27;], dtype=object),\n",
              "                                                                            array([&#x27;ASUS 6Z&#x27;, &#x27;ASUS ROG&#x27;, &#x27;ASUS ROG 5s&#x27;, &#x27;ASUS ROG Pho...\n",
              "       &#x27;vivo Y20G&#x27;, &#x27;vivo Y20G 2021&#x27;, &#x27;vivo Y21&#x27;, &#x27;vivo Y21A&#x27;,\n",
              "       &#x27;vivo Y21T&#x27;, &#x27;vivo Y30&#x27;, &#x27;vivo Y31&#x27;, &#x27;vivo Y33T&#x27;, &#x27;vivo Y33s&#x27;,\n",
              "       &#x27;vivo Y51A&#x27;, &#x27;vivo Y53s&#x27;, &#x27;vivo Y69&#x27;, &#x27;vivo Y71i&#x27;, &#x27;vivo Y72 5G&#x27;,\n",
              "       &#x27;vivo Y73&#x27;, &#x27;vivo Y75 5G&#x27;, &#x27;vivo Y83&#x27;, &#x27;vivo Y83 Pro&#x27;, &#x27;vivo Y90&#x27;,\n",
              "       &#x27;vivo Y91i&#x27;, &#x27;vivo Y93&#x27;, &#x27;vivo Y94&#x27;, &#x27;vivo Y95&#x27;, &#x27;vivo Z1 Pro&#x27;,\n",
              "       &#x27;vivo Z1x&#x27;], dtype=object)]),\n",
              "                                                  [&#x27;Brand&#x27;, &#x27;Model&#x27;])])),\n",
              "                (&#x27;linearregression&#x27;, LinearRegression())])</pre></div></div></div><div class=\"sk-serial\"><div class=\"sk-item sk-dashed-wrapped\"><div class=\"sk-label-container\"><div class=\"sk-label sk-toggleable\"><input class=\"sk-toggleable__control sk-hidden--visually\" id=\"sk-estimator-id-11\" type=\"checkbox\" ><label for=\"sk-estimator-id-11\" class=\"sk-toggleable__label sk-toggleable__label-arrow\">columntransformer: ColumnTransformer</label><div class=\"sk-toggleable__content\"><pre>ColumnTransformer(remainder=&#x27;passthrough&#x27;,\n",
              "                  transformers=[(&#x27;onehotencoder&#x27;,\n",
              "                                 OneHotEncoder(categories=[array([&#x27;ASUS&#x27;, &#x27;Apple&#x27;, &#x27;GIONEE&#x27;, &#x27;Google Pixel&#x27;, &#x27;HTC&#x27;, &#x27;IQOO&#x27;,\n",
              "       &#x27;Infinix&#x27;, &#x27;LG&#x27;, &#x27;Lenovo&#x27;, &#x27;Motorola&#x27;, &#x27;Nokia&#x27;, &#x27;OPPO&#x27;, &#x27;POCO&#x27;,\n",
              "       &#x27;SAMSUNG&#x27;, &#x27;Xiaomi&#x27;, &#x27;realme&#x27;, &#x27;vivo&#x27;], dtype=object),\n",
              "                                                           array([&#x27;ASUS 6Z&#x27;, &#x27;ASUS ROG&#x27;, &#x27;ASUS ROG 5s&#x27;, &#x27;ASUS ROG Phone&#x27;,\n",
              "       &#x27;ASUS ZenFone 5Z&#x27;, &#x27;ASUS ZenFone Lite&#x27;...\n",
              "       &#x27;vivo Y20&#x27;, &#x27;vivo Y20 T&#x27;, &#x27;vivo Y20A&#x27;, &#x27;vivo Y20A 2021&#x27;,\n",
              "       &#x27;vivo Y20G&#x27;, &#x27;vivo Y20G 2021&#x27;, &#x27;vivo Y21&#x27;, &#x27;vivo Y21A&#x27;,\n",
              "       &#x27;vivo Y21T&#x27;, &#x27;vivo Y30&#x27;, &#x27;vivo Y31&#x27;, &#x27;vivo Y33T&#x27;, &#x27;vivo Y33s&#x27;,\n",
              "       &#x27;vivo Y51A&#x27;, &#x27;vivo Y53s&#x27;, &#x27;vivo Y69&#x27;, &#x27;vivo Y71i&#x27;, &#x27;vivo Y72 5G&#x27;,\n",
              "       &#x27;vivo Y73&#x27;, &#x27;vivo Y75 5G&#x27;, &#x27;vivo Y83&#x27;, &#x27;vivo Y83 Pro&#x27;, &#x27;vivo Y90&#x27;,\n",
              "       &#x27;vivo Y91i&#x27;, &#x27;vivo Y93&#x27;, &#x27;vivo Y94&#x27;, &#x27;vivo Y95&#x27;, &#x27;vivo Z1 Pro&#x27;,\n",
              "       &#x27;vivo Z1x&#x27;], dtype=object)]),\n",
              "                                 [&#x27;Brand&#x27;, &#x27;Model&#x27;])])</pre></div></div></div><div class=\"sk-parallel\"><div class=\"sk-parallel-item\"><div class=\"sk-item\"><div class=\"sk-label-container\"><div class=\"sk-label sk-toggleable\"><input class=\"sk-toggleable__control sk-hidden--visually\" id=\"sk-estimator-id-12\" type=\"checkbox\" ><label for=\"sk-estimator-id-12\" class=\"sk-toggleable__label sk-toggleable__label-arrow\">onehotencoder</label><div class=\"sk-toggleable__content\"><pre>[&#x27;Brand&#x27;, &#x27;Model&#x27;]</pre></div></div></div><div class=\"sk-serial\"><div class=\"sk-item\"><div class=\"sk-estimator sk-toggleable\"><input class=\"sk-toggleable__control sk-hidden--visually\" id=\"sk-estimator-id-13\" type=\"checkbox\" ><label for=\"sk-estimator-id-13\" class=\"sk-toggleable__label sk-toggleable__label-arrow\">OneHotEncoder</label><div class=\"sk-toggleable__content\"><pre>OneHotEncoder(categories=[array([&#x27;ASUS&#x27;, &#x27;Apple&#x27;, &#x27;GIONEE&#x27;, &#x27;Google Pixel&#x27;, &#x27;HTC&#x27;, &#x27;IQOO&#x27;,\n",
              "       &#x27;Infinix&#x27;, &#x27;LG&#x27;, &#x27;Lenovo&#x27;, &#x27;Motorola&#x27;, &#x27;Nokia&#x27;, &#x27;OPPO&#x27;, &#x27;POCO&#x27;,\n",
              "       &#x27;SAMSUNG&#x27;, &#x27;Xiaomi&#x27;, &#x27;realme&#x27;, &#x27;vivo&#x27;], dtype=object),\n",
              "                          array([&#x27;ASUS 6Z&#x27;, &#x27;ASUS ROG&#x27;, &#x27;ASUS ROG 5s&#x27;, &#x27;ASUS ROG Phone&#x27;,\n",
              "       &#x27;ASUS ZenFone 5Z&#x27;, &#x27;ASUS ZenFone Lite&#x27;, &#x27;ASUS ZenFone Max&#x27;,\n",
              "       &#x27;ASUS Zenfone 2&#x27;, &#x27;ASUS Zenfone 4&#x27;, &#x27;ASUS Zenfone C&#x27;,\n",
              "       &#x27;ASUS Zenfo...\n",
              "       &#x27;vivo Y11&#x27;, &#x27;vivo Y12G&#x27;, &#x27;vivo Y12s&#x27;, &#x27;vivo Y1S&#x27;, &#x27;vivo Y1s&#x27;,\n",
              "       &#x27;vivo Y20&#x27;, &#x27;vivo Y20 T&#x27;, &#x27;vivo Y20A&#x27;, &#x27;vivo Y20A 2021&#x27;,\n",
              "       &#x27;vivo Y20G&#x27;, &#x27;vivo Y20G 2021&#x27;, &#x27;vivo Y21&#x27;, &#x27;vivo Y21A&#x27;,\n",
              "       &#x27;vivo Y21T&#x27;, &#x27;vivo Y30&#x27;, &#x27;vivo Y31&#x27;, &#x27;vivo Y33T&#x27;, &#x27;vivo Y33s&#x27;,\n",
              "       &#x27;vivo Y51A&#x27;, &#x27;vivo Y53s&#x27;, &#x27;vivo Y69&#x27;, &#x27;vivo Y71i&#x27;, &#x27;vivo Y72 5G&#x27;,\n",
              "       &#x27;vivo Y73&#x27;, &#x27;vivo Y75 5G&#x27;, &#x27;vivo Y83&#x27;, &#x27;vivo Y83 Pro&#x27;, &#x27;vivo Y90&#x27;,\n",
              "       &#x27;vivo Y91i&#x27;, &#x27;vivo Y93&#x27;, &#x27;vivo Y94&#x27;, &#x27;vivo Y95&#x27;, &#x27;vivo Z1 Pro&#x27;,\n",
              "       &#x27;vivo Z1x&#x27;], dtype=object)])</pre></div></div></div></div></div></div><div class=\"sk-parallel-item\"><div class=\"sk-item\"><div class=\"sk-label-container\"><div class=\"sk-label sk-toggleable\"><input class=\"sk-toggleable__control sk-hidden--visually\" id=\"sk-estimator-id-14\" type=\"checkbox\" ><label for=\"sk-estimator-id-14\" class=\"sk-toggleable__label sk-toggleable__label-arrow\">remainder</label><div class=\"sk-toggleable__content\"><pre>[&#x27;Memory&#x27;, &#x27;Storage&#x27;, &#x27;Rating&#x27;]</pre></div></div></div><div class=\"sk-serial\"><div class=\"sk-item\"><div class=\"sk-estimator sk-toggleable\"><input class=\"sk-toggleable__control sk-hidden--visually\" id=\"sk-estimator-id-15\" type=\"checkbox\" ><label for=\"sk-estimator-id-15\" class=\"sk-toggleable__label sk-toggleable__label-arrow\">passthrough</label><div class=\"sk-toggleable__content\"><pre>passthrough</pre></div></div></div></div></div></div></div></div><div class=\"sk-item\"><div class=\"sk-estimator sk-toggleable\"><input class=\"sk-toggleable__control sk-hidden--visually\" id=\"sk-estimator-id-16\" type=\"checkbox\" ><label for=\"sk-estimator-id-16\" class=\"sk-toggleable__label sk-toggleable__label-arrow\">LinearRegression</label><div class=\"sk-toggleable__content\"><pre>LinearRegression()</pre></div></div></div></div></div></div></div>"
            ],
            "text/plain": [
              "Pipeline(steps=[('columntransformer',\n",
              "                 ColumnTransformer(remainder='passthrough',\n",
              "                                   transformers=[('onehotencoder',\n",
              "                                                  OneHotEncoder(categories=[array(['ASUS', 'Apple', 'GIONEE', 'Google Pixel', 'HTC', 'IQOO',\n",
              "       'Infinix', 'LG', 'Lenovo', 'Motorola', 'Nokia', 'OPPO', 'POCO',\n",
              "       'SAMSUNG', 'Xiaomi', 'realme', 'vivo'], dtype=object),\n",
              "                                                                            array(['ASUS 6Z', 'ASUS ROG', 'ASUS ROG 5s', 'ASUS ROG Pho...\n",
              "       'vivo Y20G', 'vivo Y20G 2021', 'vivo Y21', 'vivo Y21A',\n",
              "       'vivo Y21T', 'vivo Y30', 'vivo Y31', 'vivo Y33T', 'vivo Y33s',\n",
              "       'vivo Y51A', 'vivo Y53s', 'vivo Y69', 'vivo Y71i', 'vivo Y72 5G',\n",
              "       'vivo Y73', 'vivo Y75 5G', 'vivo Y83', 'vivo Y83 Pro', 'vivo Y90',\n",
              "       'vivo Y91i', 'vivo Y93', 'vivo Y94', 'vivo Y95', 'vivo Z1 Pro',\n",
              "       'vivo Z1x'], dtype=object)]),\n",
              "                                                  ['Brand', 'Model'])])),\n",
              "                ('linearregression', LinearRegression())])"
            ]
          },
          "execution_count": 116,
          "metadata": {},
          "output_type": "execute_result"
        }
      ],
      "source": [
        "pipe.fit(X_train,y_train)"
      ]
    },
    {
      "cell_type": "code",
      "execution_count": 117,
      "metadata": {},
      "outputs": [],
      "source": [
        "pipe=make_pipeline(column_trans,lr)"
      ]
    },
    {
      "cell_type": "code",
      "execution_count": 118,
      "metadata": {},
      "outputs": [],
      "source": [
        "y_pred=pipe.predict(X_test)"
      ]
    },
    {
      "cell_type": "code",
      "execution_count": 119,
      "metadata": {},
      "outputs": [
        {
          "data": {
            "text/plain": [
              "0.8287180028118251"
            ]
          },
          "execution_count": 119,
          "metadata": {},
          "output_type": "execute_result"
        }
      ],
      "source": [
        "r2_score(y_test,y_pred)"
      ]
    },
    {
      "cell_type": "code",
      "execution_count": 120,
      "metadata": {},
      "outputs": [],
      "source": [
        "scores=[]\n",
        "for i in range(1000):\n",
        "    X_train,X_test,y_train,y_test=train_test_split(X,y,test_size=0.1,random_state=i)\n",
        "    lr=LinearRegression()\n",
        "    pipe=make_pipeline(column_trans,lr)\n",
        "    pipe.fit(X_train,y_train)\n",
        "    y_pred=pipe.predict(X_test)\n",
        "    scores.append(r2_score(y_test,y_pred))"
      ]
    },
    {
      "cell_type": "code",
      "execution_count": 121,
      "metadata": {},
      "outputs": [
        {
          "data": {
            "text/plain": [
              "806"
            ]
          },
          "execution_count": 121,
          "metadata": {},
          "output_type": "execute_result"
        }
      ],
      "source": [
        "np.argmax(scores)"
      ]
    },
    {
      "cell_type": "code",
      "execution_count": 122,
      "metadata": {},
      "outputs": [
        {
          "data": {
            "text/plain": [
              "0.9226653452168023"
            ]
          },
          "execution_count": 122,
          "metadata": {},
          "output_type": "execute_result"
        }
      ],
      "source": [
        "scores[np.argmax(scores)]"
      ]
    },
    {
      "cell_type": "code",
      "execution_count": 123,
      "metadata": {},
      "outputs": [
        {
          "data": {
            "text/plain": [
              "2251         Lenovo Vibe P1\n",
              "931            Nokia 150 DS\n",
              "170                OPPO A83\n",
              "1385         Apple iPhone 7\n",
              "319              LG W41 Pro\n",
              "               ...         \n",
              "2168         Lenovo K3 Note\n",
              "1774      SAMSUNG Galaxy J2\n",
              "1422        Apple iPhone 6s\n",
              "1954      SAMSUNG Galaxy S4\n",
              "1789    SAMSUNG Galaxy A10s\n",
              "Name: Model, Length: 309, dtype: object"
            ]
          },
          "execution_count": 123,
          "metadata": {},
          "output_type": "execute_result"
        }
      ],
      "source": [
        "X_test['Model']"
      ]
    },
    {
      "cell_type": "code",
      "execution_count": 124,
      "metadata": {},
      "outputs": [
        {
          "name": "stdout",
          "output_type": "stream",
          "text": [
            "<class 'pandas.core.frame.DataFrame'>\n",
            "RangeIndex: 3084 entries, 0 to 3083\n",
            "Data columns (total 6 columns):\n",
            " #   Column         Non-Null Count  Dtype  \n",
            "---  ------         --------------  -----  \n",
            " 0   Brand          3084 non-null   object \n",
            " 1   Model          3084 non-null   object \n",
            " 2   Memory         3084 non-null   float64\n",
            " 3   Storage        3084 non-null   float64\n",
            " 4   Rating         3084 non-null   float64\n",
            " 5   Selling Price  3084 non-null   int64  \n",
            "dtypes: float64(3), int64(1), object(2)\n",
            "memory usage: 144.7+ KB\n"
          ]
        }
      ],
      "source": [
        "dados.info()"
      ]
    },
    {
      "cell_type": "code",
      "execution_count": 125,
      "metadata": {},
      "outputs": [
        {
          "data": {
            "text/plain": [
              "array([16310.4203543])"
            ]
          },
          "execution_count": 125,
          "metadata": {},
          "output_type": "execute_result"
        }
      ],
      "source": [
        "pipe.predict(pd.DataFrame(columns=X_test.columns,data=np.array(['POCO','POCO X3 Pro',6.0,128.0,4.1]).reshape(1,5)))"
      ]
    },
    {
      "cell_type": "code",
      "execution_count": 126,
      "metadata": {},
      "outputs": [
        {
          "data": {
            "text/plain": [
              "0.9226653452168023"
            ]
          },
          "execution_count": 126,
          "metadata": {},
          "output_type": "execute_result"
        }
      ],
      "source": [
        "X_train,X_test,y_train,y_test=train_test_split(X,y,test_size=0.1,random_state=np.argmax(scores))\n",
        "lr=LinearRegression()\n",
        "pipe=make_pipeline(column_trans,lr)\n",
        "pipe.fit(X_train,y_train)\n",
        "y_pred=pipe.predict(X_test)\n",
        "r2_score(y_test,y_pred)"
      ]
    },
    {
      "cell_type": "code",
      "execution_count": 127,
      "metadata": {},
      "outputs": [],
      "source": [
        "import pickle"
      ]
    },
    {
      "cell_type": "code",
      "execution_count": 128,
      "metadata": {},
      "outputs": [],
      "source": [
        "pickle.dump(pipe,open('modelo.pkl','wb'))"
      ]
    },
    {
      "cell_type": "code",
      "execution_count": 129,
      "metadata": {},
      "outputs": [
        {
          "data": {
            "text/plain": [
              "array([14891.53207715])"
            ]
          },
          "execution_count": 129,
          "metadata": {},
          "output_type": "execute_result"
        }
      ],
      "source": [
        "pipe.predict(pd.DataFrame(columns=['Brand','Model','Memory','Storage','Rating'],data=np.array(['POCO','POCO X3 Pro',6.0,128.0,4.1]).reshape(1,5)))"
      ]
    },
    {
      "cell_type": "code",
      "execution_count": 130,
      "metadata": {},
      "outputs": [
        {
          "data": {
            "text/plain": [
              "array(['ASUS', 'Apple', 'GIONEE', 'Google Pixel', 'HTC', 'IQOO',\n",
              "       'Infinix', 'LG', 'Lenovo', 'Motorola', 'Nokia', 'OPPO', 'POCO',\n",
              "       'SAMSUNG', 'Xiaomi', 'realme', 'vivo'], dtype=object)"
            ]
          },
          "execution_count": 130,
          "metadata": {},
          "output_type": "execute_result"
        }
      ],
      "source": [
        "pipe.steps[0][1].transformers[0][1].categories[0]"
      ]
    },
    {
      "cell_type": "markdown",
      "metadata": {},
      "source": [
        "# KNN - k-nearest neighbours"
      ]
    },
    {
      "cell_type": "code",
      "execution_count": 131,
      "metadata": {},
      "outputs": [],
      "source": [
        "from sklearn.neighbors import KNeighborsClassifier\n",
        "model = KNeighborsClassifier()\n"
      ]
    },
    {
      "cell_type": "code",
      "execution_count": 132,
      "metadata": {},
      "outputs": [],
      "source": [
        "X = dados.drop(columns=['Brand', 'Model'], axis=1)\n",
        "Y = dados['Brand']\n",
        "x_train, x_test, y_train, y_test = train_test_split(X, Y, test_size=0.30)"
      ]
    },
    {
      "cell_type": "code",
      "execution_count": 133,
      "metadata": {},
      "outputs": [
        {
          "data": {
            "text/html": [
              "<style>#sk-container-id-5 {color: black;background-color: white;}#sk-container-id-5 pre{padding: 0;}#sk-container-id-5 div.sk-toggleable {background-color: white;}#sk-container-id-5 label.sk-toggleable__label {cursor: pointer;display: block;width: 100%;margin-bottom: 0;padding: 0.3em;box-sizing: border-box;text-align: center;}#sk-container-id-5 label.sk-toggleable__label-arrow:before {content: \"▸\";float: left;margin-right: 0.25em;color: #696969;}#sk-container-id-5 label.sk-toggleable__label-arrow:hover:before {color: black;}#sk-container-id-5 div.sk-estimator:hover label.sk-toggleable__label-arrow:before {color: black;}#sk-container-id-5 div.sk-toggleable__content {max-height: 0;max-width: 0;overflow: hidden;text-align: left;background-color: #f0f8ff;}#sk-container-id-5 div.sk-toggleable__content pre {margin: 0.2em;color: black;border-radius: 0.25em;background-color: #f0f8ff;}#sk-container-id-5 input.sk-toggleable__control:checked~div.sk-toggleable__content {max-height: 200px;max-width: 100%;overflow: auto;}#sk-container-id-5 input.sk-toggleable__control:checked~label.sk-toggleable__label-arrow:before {content: \"▾\";}#sk-container-id-5 div.sk-estimator input.sk-toggleable__control:checked~label.sk-toggleable__label {background-color: #d4ebff;}#sk-container-id-5 div.sk-label input.sk-toggleable__control:checked~label.sk-toggleable__label {background-color: #d4ebff;}#sk-container-id-5 input.sk-hidden--visually {border: 0;clip: rect(1px 1px 1px 1px);clip: rect(1px, 1px, 1px, 1px);height: 1px;margin: -1px;overflow: hidden;padding: 0;position: absolute;width: 1px;}#sk-container-id-5 div.sk-estimator {font-family: monospace;background-color: #f0f8ff;border: 1px dotted black;border-radius: 0.25em;box-sizing: border-box;margin-bottom: 0.5em;}#sk-container-id-5 div.sk-estimator:hover {background-color: #d4ebff;}#sk-container-id-5 div.sk-parallel-item::after {content: \"\";width: 100%;border-bottom: 1px solid gray;flex-grow: 1;}#sk-container-id-5 div.sk-label:hover label.sk-toggleable__label {background-color: #d4ebff;}#sk-container-id-5 div.sk-serial::before {content: \"\";position: absolute;border-left: 1px solid gray;box-sizing: border-box;top: 0;bottom: 0;left: 50%;z-index: 0;}#sk-container-id-5 div.sk-serial {display: flex;flex-direction: column;align-items: center;background-color: white;padding-right: 0.2em;padding-left: 0.2em;position: relative;}#sk-container-id-5 div.sk-item {position: relative;z-index: 1;}#sk-container-id-5 div.sk-parallel {display: flex;align-items: stretch;justify-content: center;background-color: white;position: relative;}#sk-container-id-5 div.sk-item::before, #sk-container-id-5 div.sk-parallel-item::before {content: \"\";position: absolute;border-left: 1px solid gray;box-sizing: border-box;top: 0;bottom: 0;left: 50%;z-index: -1;}#sk-container-id-5 div.sk-parallel-item {display: flex;flex-direction: column;z-index: 1;position: relative;background-color: white;}#sk-container-id-5 div.sk-parallel-item:first-child::after {align-self: flex-end;width: 50%;}#sk-container-id-5 div.sk-parallel-item:last-child::after {align-self: flex-start;width: 50%;}#sk-container-id-5 div.sk-parallel-item:only-child::after {width: 0;}#sk-container-id-5 div.sk-dashed-wrapped {border: 1px dashed gray;margin: 0 0.4em 0.5em 0.4em;box-sizing: border-box;padding-bottom: 0.4em;background-color: white;}#sk-container-id-5 div.sk-label label {font-family: monospace;font-weight: bold;display: inline-block;line-height: 1.2em;}#sk-container-id-5 div.sk-label-container {text-align: center;}#sk-container-id-5 div.sk-container {/* jupyter's `normalize.less` sets `[hidden] { display: none; }` but bootstrap.min.css set `[hidden] { display: none !important; }` so we also need the `!important` here to be able to override the default hidden behavior on the sphinx rendered scikit-learn.org. See: https://github.com/scikit-learn/scikit-learn/issues/21755 */display: inline-block !important;position: relative;}#sk-container-id-5 div.sk-text-repr-fallback {display: none;}</style><div id=\"sk-container-id-5\" class=\"sk-top-container\"><div class=\"sk-text-repr-fallback\"><pre>KNeighborsClassifier()</pre><b>In a Jupyter environment, please rerun this cell to show the HTML representation or trust the notebook. <br />On GitHub, the HTML representation is unable to render, please try loading this page with nbviewer.org.</b></div><div class=\"sk-container\" hidden><div class=\"sk-item\"><div class=\"sk-estimator sk-toggleable\"><input class=\"sk-toggleable__control sk-hidden--visually\" id=\"sk-estimator-id-17\" type=\"checkbox\" checked><label for=\"sk-estimator-id-17\" class=\"sk-toggleable__label sk-toggleable__label-arrow\">KNeighborsClassifier</label><div class=\"sk-toggleable__content\"><pre>KNeighborsClassifier()</pre></div></div></div></div></div>"
            ],
            "text/plain": [
              "KNeighborsClassifier()"
            ]
          },
          "execution_count": 133,
          "metadata": {},
          "output_type": "execute_result"
        }
      ],
      "source": [
        "model.fit(x_train, y_train)"
      ]
    },
    {
      "cell_type": "code",
      "execution_count": 134,
      "metadata": {},
      "outputs": [
        {
          "name": "stdout",
          "output_type": "stream",
          "text": [
            "Accuracy:  43.52051835853132\n"
          ]
        }
      ],
      "source": [
        "# print metric to get performance\n",
        "print(\"Accuracy: \",model.score(x_test, y_test) * 100)"
      ]
    },
    {
      "cell_type": "code",
      "execution_count": 135,
      "metadata": {},
      "outputs": [],
      "source": [
        "# decision tree\n",
        "from sklearn.tree import DecisionTreeClassifier\n",
        "model = DecisionTreeClassifier()"
      ]
    },
    {
      "cell_type": "code",
      "execution_count": 136,
      "metadata": {},
      "outputs": [
        {
          "data": {
            "text/html": [
              "<style>#sk-container-id-6 {color: black;background-color: white;}#sk-container-id-6 pre{padding: 0;}#sk-container-id-6 div.sk-toggleable {background-color: white;}#sk-container-id-6 label.sk-toggleable__label {cursor: pointer;display: block;width: 100%;margin-bottom: 0;padding: 0.3em;box-sizing: border-box;text-align: center;}#sk-container-id-6 label.sk-toggleable__label-arrow:before {content: \"▸\";float: left;margin-right: 0.25em;color: #696969;}#sk-container-id-6 label.sk-toggleable__label-arrow:hover:before {color: black;}#sk-container-id-6 div.sk-estimator:hover label.sk-toggleable__label-arrow:before {color: black;}#sk-container-id-6 div.sk-toggleable__content {max-height: 0;max-width: 0;overflow: hidden;text-align: left;background-color: #f0f8ff;}#sk-container-id-6 div.sk-toggleable__content pre {margin: 0.2em;color: black;border-radius: 0.25em;background-color: #f0f8ff;}#sk-container-id-6 input.sk-toggleable__control:checked~div.sk-toggleable__content {max-height: 200px;max-width: 100%;overflow: auto;}#sk-container-id-6 input.sk-toggleable__control:checked~label.sk-toggleable__label-arrow:before {content: \"▾\";}#sk-container-id-6 div.sk-estimator input.sk-toggleable__control:checked~label.sk-toggleable__label {background-color: #d4ebff;}#sk-container-id-6 div.sk-label input.sk-toggleable__control:checked~label.sk-toggleable__label {background-color: #d4ebff;}#sk-container-id-6 input.sk-hidden--visually {border: 0;clip: rect(1px 1px 1px 1px);clip: rect(1px, 1px, 1px, 1px);height: 1px;margin: -1px;overflow: hidden;padding: 0;position: absolute;width: 1px;}#sk-container-id-6 div.sk-estimator {font-family: monospace;background-color: #f0f8ff;border: 1px dotted black;border-radius: 0.25em;box-sizing: border-box;margin-bottom: 0.5em;}#sk-container-id-6 div.sk-estimator:hover {background-color: #d4ebff;}#sk-container-id-6 div.sk-parallel-item::after {content: \"\";width: 100%;border-bottom: 1px solid gray;flex-grow: 1;}#sk-container-id-6 div.sk-label:hover label.sk-toggleable__label {background-color: #d4ebff;}#sk-container-id-6 div.sk-serial::before {content: \"\";position: absolute;border-left: 1px solid gray;box-sizing: border-box;top: 0;bottom: 0;left: 50%;z-index: 0;}#sk-container-id-6 div.sk-serial {display: flex;flex-direction: column;align-items: center;background-color: white;padding-right: 0.2em;padding-left: 0.2em;position: relative;}#sk-container-id-6 div.sk-item {position: relative;z-index: 1;}#sk-container-id-6 div.sk-parallel {display: flex;align-items: stretch;justify-content: center;background-color: white;position: relative;}#sk-container-id-6 div.sk-item::before, #sk-container-id-6 div.sk-parallel-item::before {content: \"\";position: absolute;border-left: 1px solid gray;box-sizing: border-box;top: 0;bottom: 0;left: 50%;z-index: -1;}#sk-container-id-6 div.sk-parallel-item {display: flex;flex-direction: column;z-index: 1;position: relative;background-color: white;}#sk-container-id-6 div.sk-parallel-item:first-child::after {align-self: flex-end;width: 50%;}#sk-container-id-6 div.sk-parallel-item:last-child::after {align-self: flex-start;width: 50%;}#sk-container-id-6 div.sk-parallel-item:only-child::after {width: 0;}#sk-container-id-6 div.sk-dashed-wrapped {border: 1px dashed gray;margin: 0 0.4em 0.5em 0.4em;box-sizing: border-box;padding-bottom: 0.4em;background-color: white;}#sk-container-id-6 div.sk-label label {font-family: monospace;font-weight: bold;display: inline-block;line-height: 1.2em;}#sk-container-id-6 div.sk-label-container {text-align: center;}#sk-container-id-6 div.sk-container {/* jupyter's `normalize.less` sets `[hidden] { display: none; }` but bootstrap.min.css set `[hidden] { display: none !important; }` so we also need the `!important` here to be able to override the default hidden behavior on the sphinx rendered scikit-learn.org. See: https://github.com/scikit-learn/scikit-learn/issues/21755 */display: inline-block !important;position: relative;}#sk-container-id-6 div.sk-text-repr-fallback {display: none;}</style><div id=\"sk-container-id-6\" class=\"sk-top-container\"><div class=\"sk-text-repr-fallback\"><pre>DecisionTreeClassifier()</pre><b>In a Jupyter environment, please rerun this cell to show the HTML representation or trust the notebook. <br />On GitHub, the HTML representation is unable to render, please try loading this page with nbviewer.org.</b></div><div class=\"sk-container\" hidden><div class=\"sk-item\"><div class=\"sk-estimator sk-toggleable\"><input class=\"sk-toggleable__control sk-hidden--visually\" id=\"sk-estimator-id-18\" type=\"checkbox\" checked><label for=\"sk-estimator-id-18\" class=\"sk-toggleable__label sk-toggleable__label-arrow\">DecisionTreeClassifier</label><div class=\"sk-toggleable__content\"><pre>DecisionTreeClassifier()</pre></div></div></div></div></div>"
            ],
            "text/plain": [
              "DecisionTreeClassifier()"
            ]
          },
          "execution_count": 136,
          "metadata": {},
          "output_type": "execute_result"
        }
      ],
      "source": [
        "model.fit(x_train, y_train)"
      ]
    },
    {
      "cell_type": "code",
      "execution_count": 137,
      "metadata": {},
      "outputs": [
        {
          "name": "stdout",
          "output_type": "stream",
          "text": [
            "Accuracy:  64.57883369330453\n"
          ]
        }
      ],
      "source": [
        "# print metric to get performance\n",
        "print(\"Accuracy: \",model.score(x_test, y_test) * 100)"
      ]
    }
  ],
  "metadata": {
    "colab": {
      "collapsed_sections": [],
      "provenance": []
    },
    "kernelspec": {
      "display_name": "Python 3.10.7 64-bit",
      "language": "python",
      "name": "python3"
    },
    "language_info": {
      "codemirror_mode": {
        "name": "ipython",
        "version": 3
      },
      "file_extension": ".py",
      "mimetype": "text/x-python",
      "name": "python",
      "nbconvert_exporter": "python",
      "pygments_lexer": "ipython3",
      "version": "3.10.7"
    },
    "vscode": {
      "interpreter": {
        "hash": "83b617c66aa9ed92efeb8629453f4b5eb61ab11a86f5ad7ba589d02897e9d812"
      }
    }
  },
  "nbformat": 4,
  "nbformat_minor": 0
}
